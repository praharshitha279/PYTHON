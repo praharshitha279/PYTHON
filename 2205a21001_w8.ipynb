{
  "nbformat": 4,
  "nbformat_minor": 0,
  "metadata": {
    "colab": {
      "provenance": [],
      "authorship_tag": "ABX9TyPc2LZg+VqvvBP0x+rveAF6",
      "include_colab_link": true
    },
    "kernelspec": {
      "name": "python3",
      "display_name": "Python 3"
    },
    "language_info": {
      "name": "python"
    }
  },
  "cells": [
    {
      "cell_type": "markdown",
      "metadata": {
        "id": "view-in-github",
        "colab_type": "text"
      },
      "source": [
        "<a href=\"https://colab.research.google.com/github/praharshitha279/PYTHON/blob/main/2205a21001_w8.ipynb\" target=\"_parent\"><img src=\"https://colab.research.google.com/assets/colab-badge.svg\" alt=\"Open In Colab\"/></a>"
      ]
    },
    {
      "cell_type": "code",
      "execution_count": null,
      "metadata": {
        "colab": {
          "base_uri": "https://localhost:8080/"
        },
        "id": "k7KAK08jhj6s",
        "outputId": "390e2d28-7203-45f7-fb1d-245c8859d3fc"
      },
      "outputs": [
        {
          "output_type": "stream",
          "name": "stdout",
          "text": [
            "Qualification- ['venkat', 'B.Tech', 2006, 'Μ.Ε', 2011, 'Ph.D', 2018]\n",
            "Experience- ['SSCE', 2007, 'infosys', '2011', 'AITAM', '2013', 'SREC', '2018']\n",
            "CA- ['venkat', 'B.Tech', 2006, 'Μ.Ε', 2011, 'Ph.D', 2018, 'SSCE', 2007, 'infosys', '2011', 'AITAM', '2013', 'SREC', '2018']\n"
          ]
        }
      ],
      "source": [
        "Qualification=['venkat', 'B.Tech', 2006, 'Μ.Ε', 2011, 'Ph.D', 2018]\n",
        "\n",
        "Experience=['SSCE', 2007, 'infosys', '2011', 'AITAM', '2013', 'SREC', '2018']\n",
        "CA=Qualification+Experience\n",
        "\n",
        "print(\"Qualification-\", Qualification)\n",
        "\n",
        "print(\"Experience-\", Experience)\n",
        "\n",
        "print(\"CA-\", CA)"
      ]
    },
    {
      "cell_type": "code",
      "source": [
        "Qualification=['venkat', 'B.Tech', 2006, 'M.E.', 2011, 'Ph.D', 2018]\n",
        "\n",
        "print (Qualification)\n",
        "\n",
        "print(Qualification[0])\n",
        "print(Qualification [1:])\n",
        "\n",
        "print(Qualification [1:5])\n",
        "\n",
        "print(Qualification * 2)\n",
        "print (Qualification[::-1])"
      ],
      "metadata": {
        "colab": {
          "base_uri": "https://localhost:8080/"
        },
        "id": "53Se0z9PmVl0",
        "outputId": "8332f97d-012f-4eef-b221-04e8e5533124"
      },
      "execution_count": null,
      "outputs": [
        {
          "output_type": "stream",
          "name": "stdout",
          "text": [
            "['venkat', 'B.Tech', 2006, 'M.E.', 2011, 'Ph.D', 2018]\n",
            "venkat\n",
            "['B.Tech', 2006, 'M.E.', 2011, 'Ph.D', 2018]\n",
            "['B.Tech', 2006, 'M.E.', 2011]\n",
            "['venkat', 'B.Tech', 2006, 'M.E.', 2011, 'Ph.D', 2018, 'venkat', 'B.Tech', 2006, 'M.E.', 2011, 'Ph.D', 2018]\n",
            "[2018, 'Ph.D', 2011, 'M.E.', 2006, 'B.Tech', 'venkat']\n"
          ]
        }
      ]
    },
    {
      "cell_type": "code",
      "source": [
        "list=['venkat', '1985']\n",
        "\n",
        "print('Venkat birth year', list[1])\n",
        "\n",
        "list[0]='dev'\n",
        "\n",
        "list[1]=2017\n",
        "\n",
        "print('dev birth year', list[1])"
      ],
      "metadata": {
        "colab": {
          "base_uri": "https://localhost:8080/"
        },
        "id": "p6WVSPMDngHi",
        "outputId": "69082456-9734-4780-ba93-d8d45227f42f"
      },
      "execution_count": null,
      "outputs": [
        {
          "output_type": "stream",
          "name": "stdout",
          "text": [
            "Venkat birth year 1985\n",
            "dev birth year 2017\n"
          ]
        }
      ]
    },
    {
      "cell_type": "code",
      "source": [
        "list=['venkat', '1985']\n",
        "print(list)\n",
        "\n",
        "del list[1]\n",
        "\n",
        "print(list)"
      ],
      "metadata": {
        "colab": {
          "base_uri": "https://localhost:8080/"
        },
        "id": "D9a4llGjntD6",
        "outputId": "dd3d008b-7781-4eae-9f32-8ec2ec4db28d"
      },
      "execution_count": null,
      "outputs": [
        {
          "output_type": "stream",
          "name": "stdout",
          "text": [
            "['venkat', '1985']\n",
            "['venkat']\n"
          ]
        }
      ]
    },
    {
      "cell_type": "code",
      "source": [
        "Name=['Ramana', 'Thanmai', 'Dev']\n",
        "DOB=[1985, 2014,2017]\n",
        "\n",
        "print(\"Number of peoples\", len(Name))\n",
        "\n",
        "print('--------')\n",
        "\n",
        "Details=Name+DOB\n",
        "\n",
        "print(\"Biodata\", Details)\n",
        "\n",
        "print('-----------')\n",
        "\n",
        "Repetition=Name*2\n",
        "\n",
        "print(\"Repetition\", Repetition)\n",
        "\n",
        "print('--------')\n",
        "\n",
        "for x in Name:\n",
        "\n",
        "       print(x)\n",
        "\n",
        "print('------')"
      ],
      "metadata": {
        "colab": {
          "base_uri": "https://localhost:8080/"
        },
        "id": "N48ArKwOoG2U",
        "outputId": "44a54a6b-72f6-4454-9603-44e21e041e1b"
      },
      "execution_count": null,
      "outputs": [
        {
          "output_type": "stream",
          "name": "stdout",
          "text": [
            "Number of peoples 3\n",
            "--------\n",
            "Biodata ['Ramana', 'Thanmai', 'Dev', 1985, 2014, 2017]\n",
            "-----------\n",
            "Repetition ['Ramana', 'Thanmai', 'Dev', 'Ramana', 'Thanmai', 'Dev']\n",
            "--------\n",
            "Ramana\n",
            "Thanmai\n",
            "Dev\n",
            "------\n"
          ]
        }
      ]
    },
    {
      "cell_type": "code",
      "source": [
        "Name=['Ramana', 'Thanmai', 'Dev']\n",
        "\n",
        "DOB=[1985,2014,2017]\n",
        "\n",
        "print('Name with maximum charecters', max(Name))\n",
        "\n",
        "print('Younger person DOB', max(DOB))\n",
        "\n",
        "print('Name with minimum charecters', min (Name))\n",
        "\n",
        "print('Older person DOB', min (DOB))"
      ],
      "metadata": {
        "colab": {
          "base_uri": "https://localhost:8080/"
        },
        "id": "4TTKjl9Soy--",
        "outputId": "6053a995-c651-4e62-846e-c823a879b39a"
      },
      "execution_count": null,
      "outputs": [
        {
          "output_type": "stream",
          "name": "stdout",
          "text": [
            "Name with maximum charecters Thanmai\n",
            "Younger person DOB 2017\n",
            "Name with minimum charecters Dev\n",
            "Older person DOB 1985\n"
          ]
        }
      ]
    },
    {
      "cell_type": "code",
      "source": [
        "atuple=('ramana', 1985, 'Thanmai', 2014)\n",
        "str='venkat'\n",
        "list1=(atuple)\n",
        "list2=(str)\n",
        "print(list1)\n",
        "print(list2)"
      ],
      "metadata": {
        "colab": {
          "base_uri": "https://localhost:8080/"
        },
        "id": "Qbugwffyo9zK",
        "outputId": "76d8d4c6-b978-4db3-dd42-cb4d2a4a8726"
      },
      "execution_count": 5,
      "outputs": [
        {
          "output_type": "stream",
          "name": "stdout",
          "text": [
            "('ramana', 1985, 'Thanmai', 2014)\n",
            "venkat\n"
          ]
        }
      ]
    },
    {
      "cell_type": "code",
      "source": [
        "Students=['ram', 'venkat']\n",
        "\n",
        "print(Students)\n",
        "\n",
        "Students.append('Dev')\n",
        "\n",
        "print(Students)"
      ],
      "metadata": {
        "colab": {
          "base_uri": "https://localhost:8080/"
        },
        "id": "WFo3i_AerlKJ",
        "outputId": "0342d0c4-3e4e-4acd-db4f-53b173ea81df"
      },
      "execution_count": null,
      "outputs": [
        {
          "output_type": "stream",
          "name": "stdout",
          "text": [
            "['ram', 'venkat']\n",
            "['ram', 'venkat', 'Dev']\n"
          ]
        }
      ]
    },
    {
      "cell_type": "code",
      "source": [
        "Grade=['A', 'A', 'B', 'C', 'A']\n",
        "\n",
        "print(\"How many peoples got A grade\", Grade.count('A'))"
      ],
      "metadata": {
        "colab": {
          "base_uri": "https://localhost:8080/"
        },
        "id": "3EHvDY6IrvYR",
        "outputId": "30430898-1ded-498e-821c-f80fe470c550"
      },
      "execution_count": null,
      "outputs": [
        {
          "output_type": "stream",
          "name": "stdout",
          "text": [
            "How many peoples got A grade 3\n"
          ]
        }
      ]
    },
    {
      "cell_type": "code",
      "source": [
        "Family=[\"Venkat\", \"Swetha\"]\n",
        "\n",
        "print(\"Family members\", Family)\n",
        "atuple=('Dev', 'Thanmai')\n",
        "\n",
        "Family.extend(atuple)\n",
        "\n",
        "print(\"Family members\", Family)"
      ],
      "metadata": {
        "colab": {
          "base_uri": "https://localhost:8080/"
        },
        "id": "L7VHup69r63R",
        "outputId": "fc88523d-e662-4d00-df3c-0226fe94448e"
      },
      "execution_count": null,
      "outputs": [
        {
          "output_type": "stream",
          "name": "stdout",
          "text": [
            "Family members ['Venkat', 'Swetha']\n",
            "Family members ['Venkat', 'Swetha', 'Dev', 'Thanmai']\n"
          ]
        }
      ]
    },
    {
      "cell_type": "code",
      "source": [
        "Family=[\"Ramana\", \"Swetha\", \"Thanmai\", \"Dev\"]\n",
        "\n",
        "print(\"Family members\", Family)\n",
        "Family.remove(\"Ramana\")\n",
        "\n",
        "print('Family members', Family)"
      ],
      "metadata": {
        "colab": {
          "base_uri": "https://localhost:8080/"
        },
        "id": "VtIcB9PrsJvv",
        "outputId": "4d632d79-a2d0-493f-f929-28c696a68172"
      },
      "execution_count": null,
      "outputs": [
        {
          "output_type": "stream",
          "name": "stdout",
          "text": [
            "Family members ['Ramana', 'Swetha', 'Thanmai', 'Dev']\n",
            "Family members ['Swetha', 'Thanmai', 'Dev']\n"
          ]
        }
      ]
    },
    {
      "cell_type": "code",
      "source": [
        "Family=['Ramana', 'Swetha', 'Thanmai', 'Dev']\n",
        "print(\"Family members\", Family)\n",
        "\n",
        "Family.reverse()\n",
        "\n",
        "print(\"Family members\", Family)"
      ],
      "metadata": {
        "colab": {
          "base_uri": "https://localhost:8080/"
        },
        "id": "Ju1q3aLgseK-",
        "outputId": "7614b0a1-88ad-4203-f1f0-10813e0d010c"
      },
      "execution_count": null,
      "outputs": [
        {
          "output_type": "stream",
          "name": "stdout",
          "text": [
            "Family members ['Ramana', 'Swetha', 'Thanmai', 'Dev']\n",
            "Family members ['Dev', 'Thanmai', 'Swetha', 'Ramana']\n"
          ]
        }
      ]
    },
    {
      "cell_type": "code",
      "source": [
        "Name=[\"Ranana\", \"Thanmai\", \"Dev\"]\n",
        "\n",
        "print(\"Family members\", Name)\n",
        "Name.insert(1, 'Swetha')\n",
        "\n",
        "print('Family members', Name)"
      ],
      "metadata": {
        "colab": {
          "base_uri": "https://localhost:8080/"
        },
        "id": "hs3aXIpCtAU4",
        "outputId": "0f1ab105-ec39-49fb-81a1-92fe93f850bd"
      },
      "execution_count": null,
      "outputs": [
        {
          "output_type": "stream",
          "name": "stdout",
          "text": [
            "Family members ['Ranana', 'Thanmai', 'Dev']\n",
            "Family members ['Ranana', 'Swetha', 'Thanmai', 'Dev']\n"
          ]
        }
      ]
    },
    {
      "cell_type": "code",
      "source": [
        "Family=['Ramana', \"Swetha\", \"Thanmal\", 'Dev']\n",
        "\n",
        "print(\"Family members\", Family)\n",
        "\n",
        "Family.pop()\n",
        "\n",
        "print('Family members', Family)\n",
        "\n",
        "Family.pop(2)\n",
        "\n",
        "print(\"Family members\", Family)"
      ],
      "metadata": {
        "colab": {
          "base_uri": "https://localhost:8080/"
        },
        "id": "PBJ_noaftMUB",
        "outputId": "8652c3b1-32f6-4175-9389-5e03fe4fe55c"
      },
      "execution_count": 4,
      "outputs": [
        {
          "output_type": "stream",
          "name": "stdout",
          "text": [
            "Family members ['Ramana', 'Swetha', 'Thanmal', 'Dev']\n",
            "Family members ['Ramana', 'Swetha', 'Thanmal']\n",
            "Family members ['Ramana', 'Swetha']\n"
          ]
        }
      ]
    },
    {
      "cell_type": "code",
      "source": [
        "dict={}\n",
        "print(dict)\n",
        "\n",
        "dict['one']=' This is one'\n",
        "\n",
        "print(dict)\n",
        "dict['2']= 'this is two'\n",
        "print(dict)\n",
        "print(dict.keys())\n",
        "\n",
        "\n",
        "print(dict.values())"
      ],
      "metadata": {
        "colab": {
          "base_uri": "https://localhost:8080/"
        },
        "id": "dNjjKYCCtobT",
        "outputId": "47b77a03-3bae-4087-bf0b-7cba55f5c5ab"
      },
      "execution_count": null,
      "outputs": [
        {
          "output_type": "stream",
          "name": "stdout",
          "text": [
            "{}\n",
            "{'one': ' This is one'}\n",
            "{'one': ' This is one', '2': 'this is two'}\n",
            "dict_keys(['one', '2'])\n",
            "dict_values([' This is one', 'this is two'])\n"
          ]
        }
      ]
    },
    {
      "cell_type": "code",
      "source": [
        "thisset={\"apple\",\"banana\",\"cherry\"}\n",
        "\n",
        "mylist= [\"kiwi\", \"orange\"]\n",
        "\n",
        "mylist_2=(2,3)\n",
        "\n",
        "mylist_3={\"Name\":\"Venkat\", \"School\": \"SRU\"}"
      ],
      "metadata": {
        "id": "zI5i5RrUrf94"
      },
      "execution_count": 1,
      "outputs": []
    },
    {
      "cell_type": "code",
      "source": [
        "thisset.update(mylist)\n",
        "\n",
        "thisset.update(mylist_2)\n",
        "\n",
        "thisset.update(mylist_3)"
      ],
      "metadata": {
        "id": "dJWYAI4eknDM"
      },
      "execution_count": 2,
      "outputs": []
    },
    {
      "cell_type": "code",
      "source": [
        "thisset = {\"apple\", \"banana\", \"cherry\"}\n",
        "\n",
        "for x in thisset:\n",
        "\n",
        "    print(x)"
      ],
      "metadata": {
        "colab": {
          "base_uri": "https://localhost:8080/"
        },
        "id": "pQLv6RbYktyO",
        "outputId": "ae416c79-14ac-4c2f-9d07-acfc166944d2"
      },
      "execution_count": 3,
      "outputs": [
        {
          "output_type": "stream",
          "name": "stdout",
          "text": [
            "banana\n",
            "cherry\n",
            "apple\n"
          ]
        }
      ]
    }
  ]
}