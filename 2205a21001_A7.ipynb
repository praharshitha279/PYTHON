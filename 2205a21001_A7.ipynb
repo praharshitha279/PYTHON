{
  "nbformat": 4,
  "nbformat_minor": 0,
  "metadata": {
    "colab": {
      "provenance": [],
      "authorship_tag": "ABX9TyPqC1rZ9F/XPRoHMB6Eae1D",
      "include_colab_link": true
    },
    "kernelspec": {
      "name": "python3",
      "display_name": "Python 3"
    },
    "language_info": {
      "name": "python"
    }
  },
  "cells": [
    {
      "cell_type": "markdown",
      "metadata": {
        "id": "view-in-github",
        "colab_type": "text"
      },
      "source": [
        "<a href=\"https://colab.research.google.com/github/praharshitha279/PYTHON/blob/main/2205a21001_A7.ipynb\" target=\"_parent\"><img src=\"https://colab.research.google.com/assets/colab-badge.svg\" alt=\"Open In Colab\"/></a>"
      ]
    },
    {
      "cell_type": "code",
      "execution_count": 5,
      "metadata": {
        "colab": {
          "base_uri": "https://localhost:8080/"
        },
        "id": "1vg0pL8vkMaF",
        "outputId": "f5ea636c-db09-41be-e0e1-c4e5cfbd0f43"
      },
      "outputs": [
        {
          "output_type": "stream",
          "name": "stdout",
          "text": [
            "Enter recieving and voltage220000\n",
            "Enter resistance per phase km0.15\n",
            "Enter inductance per phase km0.0013263\n",
            "Enter length of tlline40\n",
            "Enter power factor0.8\n",
            "Enter appartment power381000000\n",
            "voltage reg= 11.908716696181807\n"
          ]
        }
      ],
      "source": [
        "import math as mt\n",
        "vr=float(input(\"Enter recieving and voltage\"))\n",
        "r=float(input(\"Enter resistance per phase km\"))\n",
        "l=float(input(\"Enter inductance per phase km\"))\n",
        "length=float(input(\"Enter length of tlline\"))\n",
        "pf=float(input(\"Enter power factor\"))\n",
        "load=float(input(\"Enter appartment power\"))\n",
        "vr_phase=vr/mt.sqrt(3)\n",
        "R=r*length\n",
        "L=l*length\n",
        "X=2*3.14*50*L\n",
        "Z=complex(R,X)\n",
        "P=load*pf\n",
        "Q=load*mt.sqrt(1-pf**2)\n",
        "S=complex(P,Q)\n",
        "IR=(S.conjugate())/(3*vr_phase)\n",
        "VS=vr_phase+Z*IR\n",
        "voltage_regulation=(abs(VS)-vr_phase)*100/vr_phase\n",
        "print(\"voltage reg=\",voltage_regulation)"
      ]
    },
    {
      "cell_type": "code",
      "source": [
        "import math as mt\n",
        "vr=float(input(\"Enter recieving and voltage\"))\n",
        "r=float(input(\"Enter resistance per phase km\"))\n",
        "l=float(input(\"Enter inductance per phase km\"))\n",
        "length=float(input(\"Enter length of tlline\"))\n",
        "pf=float(input(\"Enter power factor\"))\n",
        "load=float(input(\"Enter appartment power\"))\n",
        "vr_phase=vr/mt.sqrt(3)\n",
        "R=r*length\n",
        "L=l*length\n",
        "X=2*3.14*50*L\n",
        "Z=complex(R,X)\n",
        "P=load*pf\n",
        "Q=load*mt.sqrt(1-pf**2)\n",
        "S=complex(P,Q)\n",
        "IR=(S.conjugate())/(3*vr_phase)\n",
        "VS=vr_phase+Z*IR\n",
        "voltage_regulation=(abs(VS)-vr_phase)*100/vr_phase\n",
        "print(\"voltage reg=\",voltage_regulation)\n",
        "Ssend=3*VS*IR.conjugate()\n",
        "print(Ssend)\n",
        "Psend=Ssend.real\n",
        "print(\"sending power:\",Psend)\n",
        "eff=P*100/Psend\n",
        "print(\"Efficiency:\",eff)"
      ],
      "metadata": {
        "colab": {
          "base_uri": "https://localhost:8080/"
        },
        "id": "WqYVTQEBo51u",
        "outputId": "21fd9599-a333-42ee-9ed1-9e3d63d00e40"
      },
      "execution_count": 7,
      "outputs": [
        {
          "output_type": "stream",
          "name": "stdout",
          "text": [
            "Enter recieving and voltage220000\n",
            "Enter resistance per phase km0.15\n",
            "Enter inductance per phase km0.0013263\n",
            "Enter length of tlline40\n",
            "Enter power factor0.8\n",
            "Enter appartment power381000000\n",
            "voltage reg= 11.908716696181807\n",
            "(322795165.2892562+278561560.96710736j)\n",
            "sending power: 322795165.2892562\n",
            "Efficiency: 94.42520606740476\n"
          ]
        }
      ]
    },
    {
      "cell_type": "code",
      "source": [
        "import math as mt\n",
        "vr=float(input(\"Enter recieving and voltage\"))\n",
        "r=float(input(\"Enter resistance per phase km\"))\n",
        "l=float(input(\"Enter inductance per phase km\"))\n",
        "length=float(input(\"Enter length of tlline\"))\n",
        "pf=float(input(\"Enter power factor\"))\n",
        "load=float(input(\"Enter appartment power\"))\n",
        "type_pf=int(input(\"0:leading ,1:lagging\"))\n",
        "vr_phase=vr/mt.sqrt(3)\n",
        "R=r*length\n",
        "L=l*length\n",
        "X=2*3.14*50*L\n",
        "Z=complex(R,X)\n",
        "P=load*pf\n",
        "Q=load*mt.sqrt(1-pf**2)\n",
        "\n",
        "if(type_pf==0):\n",
        "   S=complex(P,Q)\n",
        "else:\n",
        "   sS=complex(P,-Q)\n",
        "IR=(S.conjugate())/(3*vr_phase)\n",
        "VS=vr_phase+Z*IR\n",
        "voltage_regulation=(abs(VS)-vr_phase)*100/vr_phase\n",
        "print(\"voltage reg=\",voltage_regulation)\n",
        "Ssend=3*VS*IR.conjugate()\n",
        "print(Ssend)\n",
        "Psend=Ssend.real\n",
        "print(\"sending power:\",Psend)\n",
        "eff=P*100/Psend\n",
        "print(\"Efficiency:\",eff)"
      ],
      "metadata": {
        "colab": {
          "base_uri": "https://localhost:8080/"
        },
        "id": "8zeLUapzrTwp",
        "outputId": "08c6c671-cb99-4e12-95cc-a8fdae3186f4"
      },
      "execution_count": 9,
      "outputs": [
        {
          "output_type": "stream",
          "name": "stdout",
          "text": [
            "Enter recieving and voltage220000\n",
            "Enter resistance per phase km0.15\n",
            "Enter inductance per phase km0.0013263\n",
            "Enter length of tlline40\n",
            "Enter power factor0.8\n",
            "Enter appartment power381000000\n",
            "0:leading ,1:lagging1\n",
            "voltage reg= 11.908716696181807\n",
            "(322795165.2892562+278561560.96710736j)\n",
            "sending power: 322795165.2892562\n",
            "Efficiency: 94.42520606740476\n"
          ]
        }
      ]
    }
  ]
}