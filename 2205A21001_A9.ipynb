{
  "nbformat": 4,
  "nbformat_minor": 0,
  "metadata": {
    "colab": {
      "provenance": [],
      "authorship_tag": "ABX9TyN2yua/Vqmf3ejUrj9e6JvW",
      "include_colab_link": true
    },
    "kernelspec": {
      "name": "python3",
      "display_name": "Python 3"
    },
    "language_info": {
      "name": "python"
    }
  },
  "cells": [
    {
      "cell_type": "markdown",
      "metadata": {
        "id": "view-in-github",
        "colab_type": "text"
      },
      "source": [
        "<a href=\"https://colab.research.google.com/github/praharshitha279/PYTHON/blob/main/2205A21001_A9.ipynb\" target=\"_parent\"><img src=\"https://colab.research.google.com/assets/colab-badge.svg\" alt=\"Open In Colab\"/></a>"
      ]
    },
    {
      "cell_type": "code",
      "execution_count": 5,
      "metadata": {
        "colab": {
          "base_uri": "https://localhost:8080/"
        },
        "id": "c0mdn32G5Pk4",
        "outputId": "4df3e1b0-f120-4bfd-cccb-0d2bddd0e758"
      },
      "outputs": [
        {
          "name": "stdout",
          "output_type": "stream",
          "text": [
            "enter hall ticket no.101\n"
          ]
        }
      ],
      "source": [
        "import numpy as np\n",
        "\n",
        "marks=np.array([[101,35,98,43,65,78,96], [102,87,45,98,65,34,78], [103,45,26,78,45,67,34], [104,45,56,67,78,89,90], [105,23,34,45,56,76,87]]);\n",
        "\n",
        "students=marks.shape[0]\n",
        "\n",
        "Hall_Ticket_No=int(input(\"enter hall ticket no.\"))\n",
        "\n",
        "for i in range (students):\n",
        "\n",
        "  if(Hall_Ticket_No==marks[i,0]):\n",
        "\n",
        "    break\n",
        "\n",
        "index=i\n",
        "\n",
        "marks_percentage=np.sum(marks [index, 1: marks.shape[1]])*100/600\n",
        "\n",
        "count=0\n",
        "\n",
        "failed_sub=[]\n",
        "\n",
        "for i in range(1, marks.shape[1]):\n",
        "\n",
        "   if(marks [index, i]<35):\n",
        "\n",
        "     count=count+1\n",
        "\n",
        "failed_sub.append(i)"
      ]
    },
    {
      "cell_type": "code",
      "source": [
        "print(\"=========================== \")\n",
        "\n",
        "print(\"    KINDERLAND SCHOOL     \")\n",
        "print(\"      score card           \")\n",
        "print(\"============================ \")\n",
        "\n",
        "\n",
        "\n",
        "print(\"Roll No:\", Hall_Ticket_No)\n",
        "\n",
        "print(\"Telugu:\", marks [index, 1])\n",
        "print(\"English:\", marks [index, 2])\n",
        "\n",
        "print(\"Hindi:\", marks [index, 3])\n",
        "\n",
        "print(\"Maths:\", marks [index, 4])\n",
        "\n",
        "print(\"Science:\", marks [index, 5])\n",
        "\n",
        "print(\"social:\", marks [index, 6])\n",
        "\n"
      ],
      "metadata": {
        "colab": {
          "base_uri": "https://localhost:8080/"
        },
        "id": "_ACy_hrh57Y1",
        "outputId": "1fe94157-4304-4314-a9f6-20bf9e196633"
      },
      "execution_count": 6,
      "outputs": [
        {
          "output_type": "stream",
          "name": "stdout",
          "text": [
            "=========================== \n",
            "    KINDERLAND SCHOOL     \n",
            "      score card           \n",
            "============================ \n",
            "Roll No: 101\n",
            "Telugu: 35\n",
            "English: 98\n",
            "Hindi: 43\n",
            "Maths: 65\n",
            "Science: 78\n",
            "social: 96\n"
          ]
        }
      ]
    },
    {
      "cell_type": "code",
      "source": [
        "print(\"===========================\")\n",
        "\n",
        "print(\"     Results Status       \")\n",
        "\n",
        "print(\"============================\")\n",
        "\n",
        "if(count>0):\n",
        "\n",
        "  print(\"Fail\")\n",
        "\n",
        "  print(\"Failed Subjects:\",)\n",
        "\n",
        "for i in range(len(failed_sub)):\n",
        "  if(failed_sub[i]==1):\n",
        "\n",
        "    print(\"Telugu\")\n",
        "\n",
        "  if(failed_sub[i]==2):\n",
        "\n",
        "    print(\"English\")\n",
        "\n",
        "  if(failed_sub[i]==3):\n",
        "    print(\"Hindi\")\n",
        "\n",
        "  if(failed_sub[i]==4):\n",
        "\n",
        "    print(\"Maths\")\n",
        "\n",
        "  if(failed_sub[i]==5):\n",
        "\n",
        "    print(\"Science\")\n",
        "\n",
        "  if(failed_sub[i]==6):\n",
        "    print(\"Social\")\n",
        "\n",
        "else:\n",
        "\n",
        "  print(\"Pass\")\n",
        "\n",
        "  print(\"Percentage of marks:\", np.round(marks_percentage))\n",
        "print(\"=========================\")"
      ],
      "metadata": {
        "colab": {
          "base_uri": "https://localhost:8080/"
        },
        "id": "5tSSmn0J706s",
        "outputId": "cde313da-8e9e-4b54-88a0-3117c1f0cbef"
      },
      "execution_count": 7,
      "outputs": [
        {
          "output_type": "stream",
          "name": "stdout",
          "text": [
            "===========================\n",
            "     Results Status       \n",
            "============================\n",
            "Social\n",
            "Pass\n",
            "Percentage of marks: 69.0\n",
            "=========================\n"
          ]
        }
      ]
    }
  ]
}