{
  "nbformat": 4,
  "nbformat_minor": 0,
  "metadata": {
    "colab": {
      "provenance": [],
      "authorship_tag": "ABX9TyOW+kN/iGd8edMtomMJD4W6",
      "include_colab_link": true
    },
    "kernelspec": {
      "name": "python3",
      "display_name": "Python 3"
    },
    "language_info": {
      "name": "python"
    }
  },
  "cells": [
    {
      "cell_type": "markdown",
      "metadata": {
        "id": "view-in-github",
        "colab_type": "text"
      },
      "source": [
        "<a href=\"https://colab.research.google.com/github/praharshitha279/PYTHON/blob/main/modulestransformers.ipynb\" target=\"_parent\"><img src=\"https://colab.research.google.com/assets/colab-badge.svg\" alt=\"Open In Colab\"/></a>"
      ]
    },
    {
      "cell_type": "code",
      "execution_count": null,
      "metadata": {
        "id": "nH0X6BYKimJ7"
      },
      "outputs": [],
      "source": [
        "\n",
        "def oc(v0,i0,w0):\n",
        "  import math\n",
        "  npf=w0/(v0*i0)\n",
        "  iw=i0*npf\n",
        "  imu=10*math.sqrt(1-npf**2)\n",
        "  r0=v0/iw\n",
        "  x0=v0/imu\n",
        "  return r0,x0"
      ]
    },
    {
      "cell_type": "code",
      "source": [
        "def sc(vsc,isc,wsc):\n",
        "  import math\n",
        "  rhv=wsc/(isc**2)\n",
        "  zhv=vsc/isc\n",
        "  xhv=math.sqrt((zhv**2)-(rhv**2))\n",
        "  return rhv,xhv"
      ],
      "metadata": {
        "id": "UPdExpbAita5"
      },
      "execution_count": null,
      "outputs": []
    },
    {
      "cell_type": "code",
      "source": [
        "\n",
        "def eff(rating,w0,wsc,x,pf):\n",
        "  efficiency=(x*rating*pf*100)/((x*rating*pf)+w0+(x**2)*wsc)\n",
        "  copper=(x**2)*wsc\n",
        "  return efficiency,copper"
      ],
      "metadata": {
        "id": "nnTxVXhyi578"
      },
      "execution_count": null,
      "outputs": []
    }
  ]
}